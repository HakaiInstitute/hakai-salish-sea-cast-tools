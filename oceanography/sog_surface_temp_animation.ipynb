{
 "cells": [
  {
   "cell_type": "code",
   "execution_count": null,
   "metadata": {
    "colab": {
     "base_uri": "https://localhost:8080/"
    },
    "id": "WSZNT0cly6L7",
    "outputId": "fb81d29f-b6ef-45a6-bdd2-d837e364ac9c"
   },
   "outputs": [],
   "source": [
    "# For google colab\n",
    "#!pip install erddap-python"
   ]
  },
  {
   "cell_type": "code",
   "execution_count": 11,
   "metadata": {
    "id": "SCX6b51UzetD"
   },
   "outputs": [],
   "source": [
    "import matplotlib.pyplot as plt\n",
    "from erddapClient import ERDDAP_Griddap\n",
    "import pandas as pd\n",
    "from pathlib import Path\n",
    "import imageio\n",
    "from tqdm import tqdm\n",
    "import xarray as xr\n",
    "import warnings\n",
    "from loguru import logger\n",
    "from glob import glob\n",
    "from hakai_salish_sea_model_tools.salishseacast import NEMOGrid\n",
    "\n",
    "import matplotlib\n",
    "\n",
    "matplotlib.use(\"Agg\")\n",
    "\n",
    "warnings.simplefilter(action=\"ignore\", category=FutureWarning)"
   ]
  },
  {
   "cell_type": "markdown",
   "metadata": {},
   "source": [
    "## Define reference stations"
   ]
  },
  {
   "cell_type": "code",
   "execution_count": 15,
   "metadata": {},
   "outputs": [
    {
     "data": {
      "text/html": [
       "<div>\n",
       "<style scoped>\n",
       "    .dataframe tbody tr th:only-of-type {\n",
       "        vertical-align: middle;\n",
       "    }\n",
       "\n",
       "    .dataframe tbody tr th {\n",
       "        vertical-align: top;\n",
       "    }\n",
       "\n",
       "    .dataframe thead th {\n",
       "        text-align: right;\n",
       "    }\n",
       "</style>\n",
       "<table border=\"1\" class=\"dataframe\">\n",
       "  <thead>\n",
       "    <tr style=\"text-align: right;\">\n",
       "      <th></th>\n",
       "      <th>name</th>\n",
       "      <th>latitude</th>\n",
       "      <th>longitude</th>\n",
       "      <th>gridX</th>\n",
       "      <th>gridY</th>\n",
       "      <th>gridLatitude</th>\n",
       "      <th>gridLongitude</th>\n",
       "      <th>distance_from_node</th>\n",
       "    </tr>\n",
       "  </thead>\n",
       "  <tbody>\n",
       "    <tr>\n",
       "      <th>0</th>\n",
       "      <td>QU5</td>\n",
       "      <td>50.1183</td>\n",
       "      <td>-125.2122</td>\n",
       "      <td>138</td>\n",
       "      <td>761</td>\n",
       "      <td>50.118435</td>\n",
       "      <td>-125.215340</td>\n",
       "      <td>0.224355</td>\n",
       "    </tr>\n",
       "    <tr>\n",
       "      <th>1</th>\n",
       "      <td>QU39</td>\n",
       "      <td>50.0307</td>\n",
       "      <td>-125.0992</td>\n",
       "      <td>144</td>\n",
       "      <td>736</td>\n",
       "      <td>50.032028</td>\n",
       "      <td>-125.101738</td>\n",
       "      <td>0.233828</td>\n",
       "    </tr>\n",
       "    <tr>\n",
       "      <th>2</th>\n",
       "      <td>W1</td>\n",
       "      <td>50.0880</td>\n",
       "      <td>-125.1110</td>\n",
       "      <td>150</td>\n",
       "      <td>748</td>\n",
       "      <td>50.090042</td>\n",
       "      <td>-125.110069</td>\n",
       "      <td>0.236582</td>\n",
       "    </tr>\n",
       "    <tr>\n",
       "      <th>3</th>\n",
       "      <td>W2</td>\n",
       "      <td>49.9890</td>\n",
       "      <td>-125.0600</td>\n",
       "      <td>145</td>\n",
       "      <td>725</td>\n",
       "      <td>49.990959</td>\n",
       "      <td>-125.060219</td>\n",
       "      <td>0.218410</td>\n",
       "    </tr>\n",
       "    <tr>\n",
       "      <th>4</th>\n",
       "      <td>Sentry Shoal</td>\n",
       "      <td>49.9200</td>\n",
       "      <td>-125.0000</td>\n",
       "      <td>145</td>\n",
       "      <td>707</td>\n",
       "      <td>49.920689</td>\n",
       "      <td>-125.000687</td>\n",
       "      <td>0.090994</td>\n",
       "    </tr>\n",
       "  </tbody>\n",
       "</table>\n",
       "</div>"
      ],
      "text/plain": [
       "           name  latitude  longitude  gridX  gridY  gridLatitude  \\\n",
       "0           QU5   50.1183  -125.2122    138    761     50.118435   \n",
       "1          QU39   50.0307  -125.0992    144    736     50.032028   \n",
       "2            W1   50.0880  -125.1110    150    748     50.090042   \n",
       "3            W2   49.9890  -125.0600    145    725     49.990959   \n",
       "4  Sentry Shoal   49.9200  -125.0000    145    707     49.920689   \n",
       "\n",
       "   gridLongitude  distance_from_node  \n",
       "0    -125.215340            0.224355  \n",
       "1    -125.101738            0.233828  \n",
       "2    -125.110069            0.236582  \n",
       "3    -125.060219            0.218410  \n",
       "4    -125.000687            0.090994  "
      ]
     },
     "execution_count": 15,
     "metadata": {},
     "output_type": "execute_result"
    }
   ],
   "source": [
    "stations = [\n",
    "    {\n",
    "        \"name\": \"QU5\",\n",
    "        \"latitude\": 50.1183,\n",
    "        \"longitude\":-125.2122,\n",
    "    },{\n",
    "        \"name\": \"QU39\",\n",
    "        \"latitude\": 50.0307000000001,\n",
    "        \"longitude\":-125.0992,\n",
    "    },\n",
    "    {\n",
    "        \"name\": \"W1\",\n",
    "        \"latitude\": 50.088,\n",
    "        \"longitude\":-125.111,\n",
    "    },{\n",
    "        \"name\": \"W2\",\n",
    "        \"latitude\": 49.989,\n",
    "        \"longitude\":-125.060,\n",
    "    },{\n",
    "        \"name\": \"Sentry Shoal\",\n",
    "        \"latitude\": 49.92,\n",
    "        \"longitude\":-125.0,\n",
    "    }\n",
    "]\n",
    "\n",
    "# Find their corresponding node on the NEMO grid\n",
    "neamodel = NEMOGrid()\n",
    "for station in stations:\n",
    "    grid_point = neamodel.ll2grid(station[\"latitude\"], station[\"longitude\"],2,output=\"dict\")\n",
    "    station[\"gridX\"] = grid_point[\"gridX\"]\n",
    "    station[\"gridY\"] = grid_point[\"gridY\"]\n",
    "    station['gridLatitude'] = grid_point['latitude']\n",
    "    station['gridLongitude'] = grid_point['longitude']\n",
    "    station[\"distance_from_node\"] = grid_point[\"distance\"]\n",
    "df_stations = pd.DataFrame(stations)\n",
    "df_stations"
   ]
  },
  {
   "cell_type": "code",
   "execution_count": 16,
   "metadata": {},
   "outputs": [],
   "source": [
    "@logger.catch\n",
    "def get_data(server, datasetID, vars, time, nc_output_file):\n",
    "    subset = (\n",
    "        ERDDAP_Griddap(server, datasetID)\n",
    "        .setResultVariables(list(vars.keys()))\n",
    "        .setSubset(\n",
    "            time=time,\n",
    "            depth=slice(0.5000003, 0.5000003),\n",
    "            gridY=slice(600, 897),\n",
    "            gridX=slice(100, 300),\n",
    "        )\n",
    "        .getxArray()\n",
    "    )\n",
    "    # save dataset\n",
    "    # Drop some atttributes that fails to be encoded\n",
    "    for var in subset.variables:\n",
    "        subset[var].attrs.pop(\"_evenlySpaced\", None)\n",
    "        subset[var].attrs.pop(\"actual_range\", None)\n",
    "        subset[var].attrs.pop(\"units\", None)\n",
    "        subset[var].attrs.pop(\"calendar\", None)\n",
    "    subset.to_netcdf(nc_output_file)\n",
    "    return subset"
   ]
  },
  {
   "cell_type": "code",
   "execution_count": 4,
   "metadata": {
    "id": "FtVtsoLOCHPo"
   },
   "outputs": [],
   "source": [
    "@logger.catch\n",
    "def get_frame(time, vars, output, server, datasetID):\n",
    "    \"\"\"Get water properties frames\"\"\"\n",
    "    nc_output_file = Path(output.format(time=time, var=\"-\".join(vars.keys())) + \".nc\")\n",
    "    if nc_output_file.exists():\n",
    "        subset = xr.open_dataset(nc_output_file)\n",
    "    else:\n",
    "        subset = get_data(server, datasetID, vars, time, nc_output_file)\n",
    "\n",
    "    for var, attrs in vars.items():\n",
    "        _, ax = plt.subplots()\n",
    "        subset[var].plot(ax=ax, **attrs)\n",
    "        plt.savefig(output.format(time=time, var=var))"
   ]
  },
  {
   "cell_type": "markdown",
   "metadata": {},
   "source": [
    "## Time Range of Interest\n"
   ]
  },
  {
   "cell_type": "code",
   "execution_count": 24,
   "metadata": {
    "id": "NI2nfC6TCaUx"
   },
   "outputs": [],
   "source": [
    "# Ben's paper 2016\n",
    "time_frames = pd.date_range(\n",
    "    start=pd.to_datetime(\"2016-07-25T00:30:00Z\"),\n",
    "    end=pd.to_datetime(\"2016-08-05T00:30:00Z\"),\n",
    "    freq=pd.Timedelta(\"1h\"),\n",
    ")\n",
    "output = Path(\"output\")\n",
    "output.mkdir(parents=True, exist_ok=True)"
   ]
  },
  {
   "cell_type": "code",
   "execution_count": 6,
   "metadata": {},
   "outputs": [],
   "source": [
    "# Small wind event 2016\n",
    "time_frames = pd.date_range(\n",
    "    start=pd.to_datetime(\"2023-06-12T00:30:00Z\"),\n",
    "    end=pd.to_datetime(\"2023-06-18T00:30:00Z\"),\n",
    "    freq=pd.Timedelta(\"1h\"),\n",
    ")\n",
    "ouput = Path(\"output_2023-06-12\")\n",
    "output.mkdir(parents=True, exist_ok=True)"
   ]
  },
  {
   "cell_type": "markdown",
   "metadata": {},
   "source": [
    "## Water Properties "
   ]
  },
  {
   "cell_type": "code",
   "execution_count": 7,
   "metadata": {
    "colab": {
     "base_uri": "https://localhost:8080/",
     "height": 1000
    },
    "id": "z8EK2w5jzPm7",
    "outputId": "910b1b9c-2224-432a-ba12-76090d41ec9f"
   },
   "outputs": [
    {
     "name": "stderr",
     "output_type": "stream",
     "text": [
      "Generate frames:   7%|▋         | 10/145 [00:53<11:51,  5.27s/time_stamp]/var/folders/bv/k82zg3_x1fg00tjywdqys88h0000gn/T/ipykernel_85026/2377147092.py:11: RuntimeWarning: More than 20 figures have been opened. Figures created through the pyplot interface (`matplotlib.pyplot.figure`) are retained until explicitly closed and may consume too much memory. (To control this warning, see the rcParam `figure.max_open_warning`). Consider using `matplotlib.pyplot.close()`.\n",
      "  _, ax = plt.subplots()\n",
      "Generate frames: 100%|██████████| 145/145 [13:14<00:00,  5.48s/time_stamp]\n"
     ]
    }
   ],
   "source": [
    "# Get temperature,salinity frames\n",
    "server = \"https://salishsea.eos.ubc.ca/erddap\"\n",
    "datasetID = \"ubcSSg3DPhysicsFields1hV21-11\"\n",
    "\n",
    "vars = {\n",
    "    \"temperature\": {\"vmin\": 5, \"vmax\": 25, \"cmap\": \"inferno\"},\n",
    "    \"salinity\": {\"vmin\": 20, \"vmax\": 32, \"cmap\": \"viridis\"},\n",
    "}\n",
    "\n",
    "data = []\n",
    "for time in tqdm(time_frames, desc=\"Generate frames\", unit=\"time_stamp\"):\n",
    "    get_frame(\n",
    "        time.isoformat().replace(\"+00:00\", \"Z\"),\n",
    "        vars,\n",
    "        \"output/{var}_{time}\",\n",
    "        server,\n",
    "        datasetID,\n",
    "    )"
   ]
  },
  {
   "cell_type": "markdown",
   "metadata": {},
   "source": [
    "## Load Current data"
   ]
  },
  {
   "cell_type": "code",
   "execution_count": 8,
   "metadata": {},
   "outputs": [],
   "source": [
    "subset = (\n",
    "    ERDDAP_Griddap(\"https://salishsea.eos.ubc.ca/erddap\", \"ubcSSg3DuGridFields1hV21-11\")\n",
    "    .setResultVariables(\"uVelocity\")\n",
    "    .setSubset(\n",
    "        time=time,\n",
    "        depth=slice(0.5000003, 0.5000003),\n",
    "        gridY=slice(600, 897),\n",
    "        gridX=slice(100, 300),\n",
    "    )\n",
    "    .getxArray()\n",
    ")"
   ]
  },
  {
   "cell_type": "code",
   "execution_count": 9,
   "metadata": {},
   "outputs": [
    {
     "name": "stderr",
     "output_type": "stream",
     "text": [
      "Generate frames: 100%|██████████| 145/145 [20:23<00:00,  8.44s/time_stamp]\n"
     ]
    }
   ],
   "source": [
    "server = \"https://salishsea.eos.ubc.ca/erddap\"\n",
    "datasetIDs = {\n",
    "    \"uVelocity\": \"ubcSSg3DuGridFields1hV21-11\",\n",
    "    \"vVelocity\": \"ubcSSg3DvGridFields1hV21-11\",\n",
    "}\n",
    "\n",
    "for time in tqdm(time_frames, desc=\"Generate frames\", unit=\"time_stamp\"):\n",
    "    for var, datasetID in datasetIDs.items():\n",
    "        get_frame(\n",
    "            time.isoformat().replace(\"+00:00\", \"Z\"),\n",
    "            {var: {\"vmin\": -1, \"vmax\": 1, \"cmap\": \"coolwarm\"}},\n",
    "            \"output/{var}_{time}\",\n",
    "            server,\n",
    "            datasetID,\n",
    "        )"
   ]
  },
  {
   "cell_type": "markdown",
   "metadata": {},
   "source": [
    "## Load Sentry Shoal"
   ]
  },
  {
   "cell_type": "code",
   "execution_count": 9,
   "metadata": {},
   "outputs": [],
   "source": [
    "## Load Sentry Shoal data"
   ]
  },
  {
   "cell_type": "markdown",
   "metadata": {},
   "source": [
    "## Generate Combined figures"
   ]
  },
  {
   "cell_type": "code",
   "execution_count": 25,
   "metadata": {},
   "outputs": [],
   "source": [
    "# Generate each frames\n",
    "def make_combined_figure(timestamp_str):\n",
    "    try:\n",
    "        ds_water = xr.open_dataset(f\"output/temperature-salinity_{timestamp_str}.nc\")\n",
    "        ds_u = xr.open_dataset(f\"output/uVelocity_{timestamp_str}.nc\")\n",
    "        ds_v = xr.open_dataset(f\"output/vVelocity_{timestamp_str}.nc\")\n",
    "    except:\n",
    "        logger.error(f\"Could not open files for {timestamp_str}\")\n",
    "        return\n",
    "    \n",
    "    for var in [\"temperature\", \"salinity\"]:\n",
    "        ds_water[var] = ds_water[var].where(ds_water[var] > 0)\n",
    "    \n",
    "    ds_u[\"uVelocity\"] = ds_u[\"uVelocity\"].where(ds_u[\"uVelocity\"] != 0)\n",
    "    ds_v[\"vVelocity\"] = ds_v[\"vVelocity\"].where(ds_v[\"vVelocity\"] != 0)\n",
    "\n",
    "    plt.close(\"all\")\n",
    "\n",
    "    def get_cmap(cmap_name):\n",
    "        cmap = plt.get_cmap(cmap_name)\n",
    "        cmap.set_under(color=\"white\")\n",
    "        return cmap\n",
    "\n",
    "    cur_spd = (ds_u.uVelocity**2 + ds_v.vVelocity**2) ** (1 / 2)\n",
    "\n",
    "    col = 2\n",
    "    row = 2\n",
    "    fig, axs = plt.subplots(col, row, figsize=(8, 5))\n",
    "    fig.suptitle(f\"SalishSeaCast Model Output: {timestamp_str}\")\n",
    "    ds_water.temperature.plot(ax=axs[0, 0], cmap=\"turbo\", vmin=12, vmax=22)\n",
    "    ds_water.salinity.plot(ax=axs[0, 1], cmap=\"turbo\", vmin=24, vmax=30)\n",
    "    ((ds_u.uVelocity**2 + ds_v.vVelocity**2) ** (1 / 2)).plot(\n",
    "        ax=axs[1, 0],\n",
    "        cmap=get_cmap(\"turbo\"),\n",
    "        vmin=0.01,\n",
    "        vmax=1,\n",
    "        cbar_kwargs={\"label\": \"Current Speed (m/s)\"},\n",
    "    )\n",
    "    plt.quiver(\n",
    "        ds_u.gridX,\n",
    "        ds_u.gridY,\n",
    "        ds_u.uVelocity.isel(time=0, depth=0),\n",
    "        ds_v.vVelocity.isel(time=0, depth=0),\n",
    "        cur_spd.where(cur_spd > 0.1),\n",
    "        scale=100,\n",
    "        cmap=\"turbo\",\n",
    "    )\n",
    "    # add stations on each axes\n",
    "    for ax in axs.flatten():\n",
    "        for station in stations:\n",
    "            ax.plot(\n",
    "                station[\"gridX\"],\n",
    "                station[\"gridY\"],\n",
    "                \"x\",\n",
    "                color=\"red\",\n",
    "                markersize=2,\n",
    "                label=station[\"name\"],\n",
    "            )\n",
    "    # ds_v.vVelocity.plot(ax=axs[1, 1], cmap='coolwarm', vmin=-1, vmax=1)\n",
    "\n",
    "    for i in range(col):\n",
    "        for j in range(row):\n",
    "            axs[i, j].set_title(None)\n",
    "            axs[i, j].set_xlabel(None)\n",
    "            axs[i, j].set_ylabel(None)\n",
    "            axs[i, j].set_xticks([])\n",
    "            axs[i, j].set_yticks([])\n",
    "\n",
    "    plt.savefig(\n",
    "        f\"output/combined_{timestamp_str}.png\",\n",
    "        dpi=300,\n",
    "        bbox_inches=\"tight\",\n",
    "        pad_inches=0.1,\n",
    "    )"
   ]
  },
  {
   "cell_type": "code",
   "execution_count": 26,
   "metadata": {},
   "outputs": [
    {
     "name": "stderr",
     "output_type": "stream",
     "text": [
      "Generate combined frames: 100%|██████████| 265/265 [04:44<00:00,  1.07s/frame]\n"
     ]
    }
   ],
   "source": [
    "for timestamp in tqdm(time_frames, desc=\"Generate combined frames\", unit=\"frame\"):\n",
    "    timestamp_str = timestamp.isoformat().replace(\"+00:00\", \"Z\")\n",
    "    make_combined_figure(timestamp_str)"
   ]
  },
  {
   "cell_type": "code",
   "execution_count": 27,
   "metadata": {},
   "outputs": [],
   "source": [
    "def make_gif(files, output, fps):\n",
    "    frames = []\n",
    "    for file in tqdm(sorted(glob(files)), desc=\"Load frames\", unit=\"frame\"):\n",
    "        image = imageio.v2.imread(file)\n",
    "        frames.append(image)\n",
    "    logger.info(f\"Saving gif to {output}\")\n",
    "    imageio.mimsave(output, frames, fps=fps)\n",
    "    logger.info(f\"Done\")"
   ]
  },
  {
   "cell_type": "code",
   "execution_count": 28,
   "metadata": {},
   "outputs": [
    {
     "name": "stderr",
     "output_type": "stream",
     "text": [
      "Load frames: 100%|██████████| 265/265 [00:16<00:00, 16.16frame/s]\n",
      "\u001b[32m2024-02-15 14:22:23.177\u001b[0m | \u001b[1mINFO    \u001b[0m | \u001b[36m__main__\u001b[0m:\u001b[36mmake_gif\u001b[0m:\u001b[36m6\u001b[0m - \u001b[1mSaving gif to ../docs/NSOG_animation_20160725-20160805.gif\u001b[0m\n",
      "\u001b[32m2024-02-15 14:22:42.170\u001b[0m | \u001b[1mINFO    \u001b[0m | \u001b[36m__main__\u001b[0m:\u001b[36mmake_gif\u001b[0m:\u001b[36m8\u001b[0m - \u001b[1mDone\u001b[0m\n"
     ]
    }
   ],
   "source": [
    "make_gif(\"output/combined_2016-*.png\", \"../docs/NSOG_animation_20160725-20160805.gif\", 4)\n",
    "# make_gif(\"output/combined_2023-*.png\", \"../docs/NSOG_animation_20230612-20230618.gif\", 4)"
   ]
  },
  {
   "cell_type": "code",
   "execution_count": null,
   "metadata": {},
   "outputs": [],
   "source": []
  }
 ],
 "metadata": {
  "colab": {
   "provenance": []
  },
  "kernelspec": {
   "display_name": "Python 3",
   "name": "python3"
  },
  "language_info": {
   "codemirror_mode": {
    "name": "ipython",
    "version": 3
   },
   "file_extension": ".py",
   "mimetype": "text/x-python",
   "name": "python",
   "nbconvert_exporter": "python",
   "pygments_lexer": "ipython3",
   "version": "3.11.2"
  }
 },
 "nbformat": 4,
 "nbformat_minor": 0
}
